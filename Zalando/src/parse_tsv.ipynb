{
 "cells": [
  {
   "cell_type": "code",
   "execution_count": 8,
   "metadata": {
    "ExecuteTime": {
     "end_time": "2019-11-24T23:22:40.438712Z",
     "start_time": "2019-11-24T23:22:40.435869Z"
    }
   },
   "outputs": [],
   "source": [
    "import pandas as pd"
   ]
  },
  {
   "cell_type": "code",
   "execution_count": 9,
   "metadata": {
    "ExecuteTime": {
     "end_time": "2019-11-24T23:22:40.632585Z",
     "start_time": "2019-11-24T23:22:40.625193Z"
    }
   },
   "outputs": [],
   "source": [
    "df=pd.read_csv('for_demo.csv',sep='|',header=None, names=['output','input'])"
   ]
  },
  {
   "cell_type": "code",
   "execution_count": 10,
   "metadata": {
    "ExecuteTime": {
     "end_time": "2019-11-24T23:22:40.789420Z",
     "start_time": "2019-11-24T23:22:40.785417Z"
    }
   },
   "outputs": [],
   "source": [
    "df['input'] = '<span>'+df['input']+'</span>'"
   ]
  },
  {
   "cell_type": "code",
   "execution_count": 11,
   "metadata": {
    "ExecuteTime": {
     "end_time": "2019-11-24T23:22:40.961209Z",
     "start_time": "2019-11-24T23:22:40.953004Z"
    }
   },
   "outputs": [
    {
     "data": {
      "text/html": [
       "<div>\n",
       "<style scoped>\n",
       "    .dataframe tbody tr th:only-of-type {\n",
       "        vertical-align: middle;\n",
       "    }\n",
       "\n",
       "    .dataframe tbody tr th {\n",
       "        vertical-align: top;\n",
       "    }\n",
       "\n",
       "    .dataframe thead th {\n",
       "        text-align: right;\n",
       "    }\n",
       "</style>\n",
       "<table border=\"1\" class=\"dataframe\">\n",
       "  <thead>\n",
       "    <tr style=\"text-align: right;\">\n",
       "      <th></th>\n",
       "      <th>output</th>\n",
       "      <th>input</th>\n",
       "    </tr>\n",
       "  </thead>\n",
       "  <tbody>\n",
       "    <tr>\n",
       "      <th>0</th>\n",
       "      <td>http://52.203.230.115/txtimgsearch/?text_query...</td>\n",
       "      <td>&lt;span&gt;Ein schwarzes Hemdkleid. Es hat einen He...</td>\n",
       "    </tr>\n",
       "    <tr>\n",
       "      <th>1</th>\n",
       "      <td>http://52.203.230.115/txtimgsearch/?text_query...</td>\n",
       "      <td>&lt;span&gt;Ein knielanges, hell pinkes Kleid. Es be...</td>\n",
       "    </tr>\n",
       "    <tr>\n",
       "      <th>2</th>\n",
       "      <td>http://52.203.230.115/txtimgsearch/?text_query...</td>\n",
       "      <td>&lt;span&gt;Ein kurzärmliges Kleid , das deutlich üb...</td>\n",
       "    </tr>\n",
       "    <tr>\n",
       "      <th>3</th>\n",
       "      <td>http://52.203.230.115/txtimgsearch/?text_query...</td>\n",
       "      <td>&lt;span&gt;Langes Sommerkleid ohne Ärmeln. Das Klei...</td>\n",
       "    </tr>\n",
       "    <tr>\n",
       "      <th>4</th>\n",
       "      <td>http://52.203.230.115/txtimgsearch/?text_query...</td>\n",
       "      <td>&lt;span&gt;Kurzes sexy Minikleid mit vertikalen sch...</td>\n",
       "    </tr>\n",
       "  </tbody>\n",
       "</table>\n",
       "</div>"
      ],
      "text/plain": [
       "                                              output  \\\n",
       "0  http://52.203.230.115/txtimgsearch/?text_query...   \n",
       "1  http://52.203.230.115/txtimgsearch/?text_query...   \n",
       "2  http://52.203.230.115/txtimgsearch/?text_query...   \n",
       "3  http://52.203.230.115/txtimgsearch/?text_query...   \n",
       "4  http://52.203.230.115/txtimgsearch/?text_query...   \n",
       "\n",
       "                                               input  \n",
       "0  <span>Ein schwarzes Hemdkleid. Es hat einen He...  \n",
       "1  <span>Ein knielanges, hell pinkes Kleid. Es be...  \n",
       "2  <span>Ein kurzärmliges Kleid , das deutlich üb...  \n",
       "3  <span>Langes Sommerkleid ohne Ärmeln. Das Klei...  \n",
       "4  <span>Kurzes sexy Minikleid mit vertikalen sch...  "
      ]
     },
     "execution_count": 11,
     "metadata": {},
     "output_type": "execute_result"
    }
   ],
   "source": [
    "df.head()"
   ]
  },
  {
   "cell_type": "code",
   "execution_count": 12,
   "metadata": {
    "ExecuteTime": {
     "end_time": "2019-11-24T23:22:41.112194Z",
     "start_time": "2019-11-24T23:22:41.108023Z"
    }
   },
   "outputs": [
    {
     "data": {
      "text/plain": [
       "'http://52.203.230.115/txtimgsearch/?text_query=Ein+knielanges,+hell+pinkes+Kleid.+Es+besitzt+einen+runden+Ausschnitt,+keine+Ärmel+und+die+Schultern+sind+frei.'"
      ]
     },
     "execution_count": 12,
     "metadata": {},
     "output_type": "execute_result"
    }
   ],
   "source": [
    "df.output[1]"
   ]
  },
  {
   "cell_type": "code",
   "execution_count": 14,
   "metadata": {
    "ExecuteTime": {
     "end_time": "2019-11-24T23:22:49.202443Z",
     "start_time": "2019-11-24T23:22:49.198415Z"
    }
   },
   "outputs": [],
   "source": [
    "df['output'] = '<iframe class=\"output\" src=\"'+df.output+'\" seamless>'"
   ]
  },
  {
   "cell_type": "code",
   "execution_count": 16,
   "metadata": {
    "ExecuteTime": {
     "end_time": "2019-11-24T23:23:00.518280Z",
     "start_time": "2019-11-24T23:23:00.511941Z"
    }
   },
   "outputs": [],
   "source": [
    "df.to_csv('zalando.csv',index=False)"
   ]
  },
  {
   "cell_type": "code",
   "execution_count": 18,
   "metadata": {
    "ExecuteTime": {
     "end_time": "2019-11-24T23:24:30.471646Z",
     "start_time": "2019-11-24T23:24:30.279585Z"
    }
   },
   "outputs": [],
   "source": [
    "!open ."
   ]
  },
  {
   "cell_type": "code",
   "execution_count": null,
   "metadata": {},
   "outputs": [],
   "source": []
  }
 ],
 "metadata": {
  "kernelspec": {
   "display_name": "Python 3",
   "language": "python",
   "name": "python3"
  },
  "language_info": {
   "codemirror_mode": {
    "name": "ipython",
    "version": 3
   },
   "file_extension": ".py",
   "mimetype": "text/x-python",
   "name": "python",
   "nbconvert_exporter": "python",
   "pygments_lexer": "ipython3",
   "version": "3.7.4"
  }
 },
 "nbformat": 4,
 "nbformat_minor": 2
}
